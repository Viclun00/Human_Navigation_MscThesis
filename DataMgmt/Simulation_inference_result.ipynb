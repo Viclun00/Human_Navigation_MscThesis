{
 "cells": [
  {
   "cell_type": "code",
   "execution_count": 15,
   "metadata": {},
   "outputs": [],
   "source": [
    "import re\n",
    "def extract_data(line):\n",
    "    # Use regular expressions to extract the values\n",
    "    success = re.search(r'Success:(\\d+)', line).group(1)\n",
    "    print(success)\n",
    "    time = re.search(r'Time:(\\d+)', line).group(1)\n",
    "    print(time)\n",
    "    \n",
    "    \n",
    "    return {\n",
    "        'Success': int(success),\n",
    "        'Time': int(time),\n",
    "        'Rew': float(rew)\n",
    "    }"
   ]
  },
  {
   "cell_type": "code",
   "execution_count": 37,
   "metadata": {},
   "outputs": [],
   "source": [
    "def get_values_from_file(filename):\n",
    "  data = []\n",
    "  with open(filename, 'r') as file:\n",
    "    for line in file:\n",
    "      # Split the line by ';'\n",
    "      split_line = line.strip().split(';')\n",
    "      # Extract values after labels (Success, Time, Rew)\n",
    "      data.append({\n",
    "          'success': int(split_line[0].split(':')[1]),\n",
    "          'time': int(split_line[1].split(':')[1]),\n",
    "          'rew': float(split_line[2].split(':')[1])\n",
    "      })\n",
    "  return data"
   ]
  },
  {
   "cell_type": "code",
   "execution_count": 38,
   "metadata": {},
   "outputs": [],
   "source": [
    "\n",
    "\n",
    "data = get_values_from_file(\"time_log_scratch.txt\")  \n",
    "\n",
    "Success = []\n",
    "Time = []\n",
    "Reward = []\n",
    "\n",
    "for item in data:\n",
    "  Success.append(item['success'])\n",
    "  Time.append(item['time'])\n",
    "  Reward.append(item['rew'])"
   ]
  },
  {
   "cell_type": "code",
   "execution_count": 39,
   "metadata": {},
   "outputs": [
    {
     "name": "stdout",
     "output_type": "stream",
     "text": [
      "0.9861111111111112 604.25 7899.403302777777\n"
     ]
    }
   ],
   "source": [
    "Success_rate = Success.count(1)/len(Success)\n",
    "Time_avg = sum(Time)/len(Time)\n",
    "Rew_avg = sum(Reward)/len(Reward)\n",
    "print(Success_rate, Time_avg,Rew_avg )"
   ]
  },
  {
   "cell_type": "code",
   "execution_count": 40,
   "metadata": {},
   "outputs": [
    {
     "name": "stdout",
     "output_type": "stream",
     "text": [
      "1.0 611.5490196078431 7972.598039215686\n"
     ]
    }
   ],
   "source": [
    "data = get_values_from_file(\"scratch data/time_log_12_hum.txt\")  \n",
    "\n",
    "Success = []\n",
    "Time = []\n",
    "Reward = []\n",
    "\n",
    "for item in data:\n",
    "  Success.append(item['success'])\n",
    "  Time.append(item['time'])\n",
    "  Reward.append(item['rew'])\n",
    "\n",
    "Success_rate = Success.count(1)/len(Success)\n",
    "Time_avg = sum(Time)/len(Time)\n",
    "Rew_avg = sum(Reward)/len(Reward)\n",
    "print(Success_rate, Time_avg,Rew_avg )"
   ]
  },
  {
   "cell_type": "code",
   "execution_count": 41,
   "metadata": {},
   "outputs": [
    {
     "name": "stdout",
     "output_type": "stream",
     "text": [
      "1.0 614.7 7954.88\n"
     ]
    }
   ],
   "source": [
    "data = get_values_from_file(\"scratch data/time_log_3_hum.txt\")  \n",
    "\n",
    "Success = []\n",
    "Time = []\n",
    "Reward = []\n",
    "\n",
    "for item in data:\n",
    "  Success.append(item['success'])\n",
    "  Time.append(item['time'])\n",
    "  Reward.append(item['rew'])\n",
    "\n",
    "Success_rate = Success.count(1)/len(Success)\n",
    "Time_avg = sum(Time)/len(Time)\n",
    "Rew_avg = sum(Reward)/len(Reward)\n",
    "print(Success_rate, Time_avg,Rew_avg )"
   ]
  },
  {
   "cell_type": "code",
   "execution_count": 43,
   "metadata": {},
   "outputs": [
    {
     "name": "stdout",
     "output_type": "stream",
     "text": [
      "1.0 612.92 3743.16\n"
     ]
    }
   ],
   "source": [
    "data = get_values_from_file(\"scratch data/time_log_5_hum.txt\")  \n",
    "\n",
    "Success = []\n",
    "Time = []\n",
    "Reward = []\n",
    "\n",
    "for item in data:\n",
    "  Success.append(item['success'])\n",
    "  Time.append(item['time'])\n",
    "  Reward.append(item['rew'])\n",
    "\n",
    "Success_rate = Success.count(1)/len(Success)\n",
    "Time_avg = sum(Time)/len(Time)\n",
    "Rew_avg = sum(Reward)/len(Reward)\n",
    "print(Success_rate, Time_avg,Rew_avg )"
   ]
  },
  {
   "cell_type": "code",
   "execution_count": null,
   "metadata": {},
   "outputs": [],
   "source": []
  }
 ],
 "metadata": {
  "kernelspec": {
   "display_name": "base",
   "language": "python",
   "name": "python3"
  },
  "language_info": {
   "codemirror_mode": {
    "name": "ipython",
    "version": 3
   },
   "file_extension": ".py",
   "mimetype": "text/x-python",
   "name": "python",
   "nbconvert_exporter": "python",
   "pygments_lexer": "ipython3",
   "version": "3.11.5"
  }
 },
 "nbformat": 4,
 "nbformat_minor": 2
}
